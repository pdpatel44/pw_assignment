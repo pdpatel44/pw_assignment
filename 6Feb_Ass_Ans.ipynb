{
 "cells": [
  {
   "cell_type": "markdown",
   "id": "4c8a0a06",
   "metadata": {},
   "source": [
    "# Answer 1"
   ]
  },
  {
   "cell_type": "code",
   "execution_count": 49,
   "id": "71e2fcd5",
   "metadata": {},
   "outputs": [
    {
     "name": "stdout",
     "output_type": "stream",
     "text": [
      "Input List =  [1, 2, 3, 4, [44, 55, 66, True], False, (34, 56, 78, 89, 34), {1, 2, 3}, {1: 34, 'key2': [55, 67, 78, 89], 4: (45, 22, 61, 34)}, [56, 'data science'], 'Machine Learning']\n",
      "\n",
      "List of all numeric=  [1, 2, 3, 4, 44, 55, 66, 34, 56, 78, 89, 34, 1, 2, 3, 1, 4, 34, 55, 67, 78, 89, 45, 22, 61, 34, 56]\n",
      "\n",
      "Procut of all numeric elements is:  4134711838987085478833841242112000\n"
     ]
    }
   ],
   "source": [
    "list1 = [1,2,3,4, [44,55,66, True], False, (34,56,78,89,34), {1,2,3,3,2,1}, {1:34, \"key2\": [55, 67, 78, 89], 4: (45,22, 61, 34)}, [56, 'data science'], 'Machine Learning']\n",
    "\n",
    "print(\"Input List = \", list1)\n",
    "print()\n",
    "\n",
    "def convertToNumList(l, outList):\n",
    "    for i in l:\n",
    "        if type(i) == int :\n",
    "            outList.append(i)\n",
    "        if type(i) == list or type(i) == tuple or type(i) == set:\n",
    "            convertToNumList(i, outList)\n",
    "            \n",
    "def productOfElements(l):\n",
    "    out = []\n",
    "    for i in l:\n",
    "        if type(i) == int :\n",
    "            out.append(i)\n",
    "        if type(i) == list or type(i) == tuple or type(i) == set:\n",
    "            convertToNumList(i, out)\n",
    "        if type(i) == dict:\n",
    "            myDict = dict(i)\n",
    "            kL = myDict.keys()\n",
    "            vL = myDict.values()\n",
    "            convertToNumList(kL, out)\n",
    "            convertToNumList(vL, out)\n",
    "            \n",
    "    print(\"List of all numeric= \",out)\n",
    "    print()\n",
    "    prdct = 1\n",
    "    for j in out:\n",
    "        prdct *= j \n",
    "\n",
    "    return prdct\n",
    "\n",
    "print(\"Procut of all numeric elements is: \", productOfElements(list1))\n"
   ]
  },
  {
   "cell_type": "markdown",
   "id": "b6459c60",
   "metadata": {},
   "source": [
    "# Answer 2"
   ]
  },
  {
   "cell_type": "code",
   "execution_count": 46,
   "id": "5f3bc5d4",
   "metadata": {},
   "outputs": [
    {
     "name": "stdout",
     "output_type": "stream",
     "text": [
      "Input String:  I want to become a Data Scientist.\n",
      "Encrypted String:  r$dzmg$gl$yvxlnv$z$wzgz$hxrvmgrhg.\n"
     ]
    }
   ],
   "source": [
    "inS = 'I want to become a Data Scientist.'\n",
    "print(\"Input String: \",inS)\n",
    "#print(type(inS))\n",
    "\n",
    "def encrypt(c):\n",
    "    ic = ord(c)\n",
    "    if ic >= 97 and ic <=122:\n",
    "        for i in range(0, 26):\n",
    "            if (97 + i) == ic:\n",
    "                f = 25 - i*2\n",
    "                oc = ic + f\n",
    "                break\n",
    "    else:\n",
    "        oc = ic\n",
    "    return chr(oc)\n",
    "\n",
    "st1 = (inS.lower()).replace(\" \", \"$\")\n",
    "#print(st1)\n",
    "\n",
    "c = \"\"\n",
    "for j in range(0,len(st1)):\n",
    "    c += encrypt(st1[j])\n",
    "\n",
    "print(\"Encrypted String: \", c)\n",
    "\n"
   ]
  }
 ],
 "metadata": {
  "kernelspec": {
   "display_name": "Python 3 (ipykernel)",
   "language": "python",
   "name": "python3"
  },
  "language_info": {
   "codemirror_mode": {
    "name": "ipython",
    "version": 3
   },
   "file_extension": ".py",
   "mimetype": "text/x-python",
   "name": "python",
   "nbconvert_exporter": "python",
   "pygments_lexer": "ipython3",
   "version": "3.8.10"
  }
 },
 "nbformat": 4,
 "nbformat_minor": 5
}
