{
 "cells": [
  {
   "cell_type": "code",
   "execution_count": 9,
   "id": "0c40ab2f",
   "metadata": {},
   "outputs": [
    {
     "name": "stdout",
     "output_type": "stream",
     "text": [
      "Enter percentage:-1\n",
      "Invalid Percentage!\n"
     ]
    }
   ],
   "source": [
    "#Answer 1\n",
    "\n",
    "inP = int(input(\"Enter percentage:\"))\n",
    "\n",
    "if inP > 90 and inP <= 100:\n",
    "    print(\"A Grade\")\n",
    "elif inP > 80 and inP <= 90:\n",
    "    print(\"B Grade\")\n",
    "elif inP >= 60 and inP <= 80:\n",
    "    print(\"C Grade\")\n",
    "elif inP < 60 and inP >= 0:\n",
    "    print(\"D Grade\")\n",
    "else :\n",
    "    print(\"Invalid Percentage!\")\n"
   ]
  },
  {
   "cell_type": "code",
   "execution_count": 14,
   "id": "aecdaeee",
   "metadata": {},
   "outputs": [
    {
     "name": "stdout",
     "output_type": "stream",
     "text": [
      "Enter the cost of bike:40000\n",
      "Tax applicable: 2000.0\n"
     ]
    }
   ],
   "source": [
    "#Answer 2\n",
    "\n",
    "inP = int(input(\"Enter the cost of bike:\"))\n",
    "\n",
    "if inP > 100000:\n",
    "    tax = 15/100\n",
    "    print(\"Tax applicable:\", (tax*inP))\n",
    "elif inP > 50000 and inP <= 100000:\n",
    "    tax = 10/100\n",
    "    print(\"Tax applicable:\", (tax*inP))\n",
    "elif inP <= 50000:\n",
    "    tax = 5/100\n",
    "    print(\"Tax applicable:\", (tax*inP))"
   ]
  },
  {
   "cell_type": "code",
   "execution_count": 19,
   "id": "c46dc59b",
   "metadata": {},
   "outputs": [
    {
     "name": "stdout",
     "output_type": "stream",
     "text": [
      "Enter the cost of bike:delhi\n",
      "Monument: Red Fort\n"
     ]
    }
   ],
   "source": [
    "#Answer 3\n",
    "\n",
    "inP = str(input(\"Enter the cost of bike:\"))\n",
    "inP = inP.upper()\n",
    "\n",
    "if inP == 'DELHI':\n",
    "    print(\"Monument: Red Fort\")\n",
    "elif inP == 'AGRA':\n",
    "    print(\"Monument: Taj Mahal\")\n",
    "elif inP == 'JAIPUR':\n",
    "    print(\"Monument: Jal Mahal\")"
   ]
  },
  {
   "cell_type": "code",
   "execution_count": 24,
   "id": "eacf7b34",
   "metadata": {},
   "outputs": [
    {
     "name": "stdout",
     "output_type": "stream",
     "text": [
      "Enter Number:11\n",
      "Divided by 3 count: 1\n"
     ]
    }
   ],
   "source": [
    "#Answer 4\n",
    "\n",
    "inP = int(input(\"Enter Number:\"))\n",
    "\n",
    "x = inP\n",
    "c = 0\n",
    "\n",
    "while x > 10:\n",
    "    x /= 3\n",
    "    c += 1\n",
    "\n",
    "print(\"Divided by 3 count:\",c)"
   ]
  },
  {
   "cell_type": "code",
   "execution_count": 29,
   "id": "4e982f22",
   "metadata": {},
   "outputs": [
    {
     "name": "stdout",
     "output_type": "stream",
     "text": [
      "10\n",
      "9\n",
      "8\n",
      "7\n",
      "6\n",
      "5\n",
      "4\n",
      "3\n",
      "2\n",
      "1\n",
      "0\n"
     ]
    }
   ],
   "source": [
    "#Answer 5\n",
    "\"\"\" While loops are used when we aren't aware of loop iterations during implementation. \n",
    "    While loop will run as long as the condition is true. \n",
    "    Break statement can be used to exit in true condition state \"\"\"\n",
    "\n",
    "i = 10\n",
    "while i < 100:\n",
    "    print(i)\n",
    "    i -= 1\n",
    "    if i < 0:\n",
    "        break\n",
    "else:\n",
    "  print(\"While exits i =\", i)"
   ]
  },
  {
   "cell_type": "code",
   "execution_count": 33,
   "id": "985cf828",
   "metadata": {},
   "outputs": [
    {
     "name": "stdout",
     "output_type": "stream",
     "text": [
      "Enter iteration5\n",
      "*\n",
      "**\n",
      "***\n",
      "****\n",
      "*****\n"
     ]
    }
   ],
   "source": [
    "#Answer 6: Pattern 1\n",
    "\n",
    "n=int(input(\"Enter iteration\"))\n",
    "\n",
    "i = 0\n",
    "j = 0\n",
    "while i < n:\n",
    "    while j < i+1:\n",
    "        print(\"*\", end=\"\")\n",
    "        j +=1\n",
    "    print(\"\\r\")\n",
    "    j = 0\n",
    "    i += 1\n",
    "   "
   ]
  },
  {
   "cell_type": "code",
   "execution_count": 34,
   "id": "ca23208c",
   "metadata": {},
   "outputs": [
    {
     "name": "stdout",
     "output_type": "stream",
     "text": [
      "Enter iteration5\n",
      "     * \n",
      "    * * \n",
      "   * * * \n",
      "  * * * * \n",
      " * * * * * \n"
     ]
    }
   ],
   "source": [
    "#Answer 6: Pattern 2\n",
    "\n",
    "n=int(input(\"Enter iteration\"))\n",
    "    \n",
    "i = 0\n",
    "j = 0\n",
    "k = n\n",
    "while i < n:\n",
    "    while k > i:\n",
    "        print(\" \",end=\"\")\n",
    "        k -= 1\n",
    "    while j < i+1:\n",
    "        print(\"* \", end=\"\")\n",
    "        j +=1\n",
    "    print(\"\\r\")\n",
    "    j = 0\n",
    "    i += 1\n",
    "    k = n"
   ]
  },
  {
   "cell_type": "code",
   "execution_count": 38,
   "id": "cf0339e1",
   "metadata": {},
   "outputs": [
    {
     "name": "stdout",
     "output_type": "stream",
     "text": [
      "Enter iteration5\n",
      " * * * * * \n",
      "  * * * * \n",
      "   * * * \n",
      "    * * \n",
      "     * \n"
     ]
    }
   ],
   "source": [
    "#Answer 6: Pattern 2\n",
    "\n",
    "n=int(input(\"Enter iteration\"))\n",
    "    \n",
    "i = 0\n",
    "j = 0\n",
    "k = 0\n",
    "while i < n:\n",
    "    while k < i+1:\n",
    "        print(\" \",end=\"\")\n",
    "        k += 1\n",
    "    while j < n-i:\n",
    "        print(\"* \", end=\"\")\n",
    "        j +=1\n",
    "    print(\"\\r\")\n",
    "    j = 0\n",
    "    i += 1\n",
    "    k = 0"
   ]
  },
  {
   "cell_type": "code",
   "execution_count": 39,
   "id": "813f14a0",
   "metadata": {},
   "outputs": [
    {
     "name": "stdout",
     "output_type": "stream",
     "text": [
      "Enter iteration10\n",
      "10\n",
      "9\n",
      "8\n",
      "7\n",
      "6\n",
      "5\n",
      "4\n",
      "3\n",
      "2\n",
      "1\n"
     ]
    }
   ],
   "source": [
    "#Answer 7 \n",
    "\n",
    "n=int(input(\"Enter iteration\"))\n",
    "\n",
    "while n > 0:\n",
    "    print(n)\n",
    "    n-=1"
   ]
  },
  {
   "cell_type": "code",
   "execution_count": 40,
   "id": "67d3eeb8",
   "metadata": {},
   "outputs": [
    {
     "name": "stdout",
     "output_type": "stream",
     "text": [
      "Enter iteration10\n",
      "10\n",
      "9\n",
      "8\n",
      "7\n",
      "6\n",
      "5\n",
      "4\n",
      "3\n",
      "2\n",
      "1\n"
     ]
    }
   ],
   "source": [
    "#Answer 8 \n",
    "\n",
    "n=int(input(\"Enter iteration\"))\n",
    "\n",
    "while n > 0:\n",
    "    print(n)\n",
    "    n-=1"
   ]
  },
  {
   "cell_type": "code",
   "execution_count": null,
   "id": "2f99b5d6",
   "metadata": {},
   "outputs": [],
   "source": []
  }
 ],
 "metadata": {
  "kernelspec": {
   "display_name": "Python 3 (ipykernel)",
   "language": "python",
   "name": "python3"
  },
  "language_info": {
   "codemirror_mode": {
    "name": "ipython",
    "version": 3
   },
   "file_extension": ".py",
   "mimetype": "text/x-python",
   "name": "python",
   "nbconvert_exporter": "python",
   "pygments_lexer": "ipython3",
   "version": "3.8.10"
  }
 },
 "nbformat": 4,
 "nbformat_minor": 5
}
