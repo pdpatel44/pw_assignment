{
 "cells": [
  {
   "cell_type": "markdown",
   "id": "16df8ff0-14f8-4726-a436-5796160d2370",
   "metadata": {},
   "source": [
    "#Answer 1"
   ]
  },
  {
   "cell_type": "code",
   "execution_count": 19,
   "id": "cc18832b-af7d-4a0a-a840-38a2e54beac9",
   "metadata": {},
   "outputs": [
    {
     "data": {
      "text/plain": [
       "[('Virat Kohli', 24936),\n",
       " ('Jack Kallis', 25534),\n",
       " ('Ricky Ponting', 27483),\n",
       " ('Sachin Tendulkar', 34357)]"
      ]
     },
     "execution_count": 19,
     "metadata": {},
     "output_type": "execute_result"
    }
   ],
   "source": [
    "from functools import reduce\n",
    "l = [('Sachin Tendulkar', 34357), ('Ricky Ponting', 27483), ('Jack Kallis', 25534), ('Virat Kohli', 24936)]\n",
    "\n",
    "l.sort(key = lambda x:x[1])\n",
    "l"
   ]
  },
  {
   "cell_type": "markdown",
   "id": "c12d7d8c-722e-4418-a733-4f4c455af13d",
   "metadata": {},
   "source": [
    "#Answer 2"
   ]
  },
  {
   "cell_type": "code",
   "execution_count": 20,
   "id": "18d86a90-3e26-4fbc-bf92-54f8c628a8c4",
   "metadata": {},
   "outputs": [
    {
     "data": {
      "text/plain": [
       "[1, 4, 9, 16, 25, 36, 49, 64, 81, 100]"
      ]
     },
     "execution_count": 20,
     "metadata": {},
     "output_type": "execute_result"
    }
   ],
   "source": [
    "l1 = [1, 2, 3, 4, 5, 6, 7, 8, 9, 10]\n",
    "list(map( lambda x : x**2, l1))"
   ]
  },
  {
   "cell_type": "markdown",
   "id": "ca779f0a-456a-4df3-8f1f-b735b17ee1cb",
   "metadata": {},
   "source": [
    "#Answer 3"
   ]
  },
  {
   "cell_type": "code",
   "execution_count": 21,
   "id": "12dc9604-0b20-4568-aef7-9c407cec6036",
   "metadata": {},
   "outputs": [
    {
     "data": {
      "text/plain": [
       "('1', '2', '3', '4', '5', '6', '7', '8', '9', '10')"
      ]
     },
     "execution_count": 21,
     "metadata": {},
     "output_type": "execute_result"
    }
   ],
   "source": [
    "l1 = [1, 2, 3, 4, 5, 6, 7, 8, 9, 10]\n",
    "\n",
    "tuple(list(map( lambda x : str(x), l1)))"
   ]
  },
  {
   "cell_type": "markdown",
   "id": "7956725e-16bc-4428-8131-58dc8a5cf1ad",
   "metadata": {},
   "source": [
    "#Answer 4"
   ]
  },
  {
   "cell_type": "code",
   "execution_count": 25,
   "id": "d6ea4b47-0b08-4a6e-a3fa-b3b1b42ad9f2",
   "metadata": {},
   "outputs": [
    {
     "data": {
      "text/plain": [
       "325"
      ]
     },
     "execution_count": 25,
     "metadata": {},
     "output_type": "execute_result"
    }
   ],
   "source": [
    "from functools import reduce\n",
    "\n",
    "def createList(n):\n",
    "    for i in range(n):\n",
    "        yield i+1\n",
    "\n",
    "l2 = list(i for i in createList(25))\n",
    "reduce( lambda x, y : x+y , l2)\n"
   ]
  },
  {
   "cell_type": "markdown",
   "id": "50367e8d-27d7-444b-af81-a2ee6befafee",
   "metadata": {},
   "source": [
    "#Answer 5"
   ]
  },
  {
   "cell_type": "code",
   "execution_count": 29,
   "id": "8c9b8c32-fa2b-48d4-bd44-cdb7f14b2b97",
   "metadata": {},
   "outputs": [
    {
     "data": {
      "text/plain": [
       "[6, 60, 90, 120]"
      ]
     },
     "execution_count": 29,
     "metadata": {},
     "output_type": "execute_result"
    }
   ],
   "source": [
    "l5 = [2, 3, 6, 9, 27, 60, 90, 120, 55, 46]\n",
    "\n",
    "list(filter( lambda x: x%2==0 and x%3 == 0 , l5))"
   ]
  },
  {
   "cell_type": "markdown",
   "id": "e3cb259e-d672-4a01-b93f-fc9530bf7416",
   "metadata": {},
   "source": [
    "#Answer 6"
   ]
  },
  {
   "cell_type": "code",
   "execution_count": 32,
   "id": "0471c265-832b-4f42-bb54-9ac9e6982c18",
   "metadata": {},
   "outputs": [
    {
     "data": {
      "text/plain": [
       "['php', 'aba', 'radar', 'level']"
      ]
     },
     "execution_count": 32,
     "metadata": {},
     "output_type": "execute_result"
    }
   ],
   "source": [
    "l6 = ['python', 'php', 'aba', 'radar', 'level']\n",
    "\n",
    "list(filter( lambda x : x == x[::-1], l6))"
   ]
  }
 ],
 "metadata": {
  "kernelspec": {
   "display_name": "Python 3 (ipykernel)",
   "language": "python",
   "name": "python3"
  },
  "language_info": {
   "codemirror_mode": {
    "name": "ipython",
    "version": 3
   },
   "file_extension": ".py",
   "mimetype": "text/x-python",
   "name": "python",
   "nbconvert_exporter": "python",
   "pygments_lexer": "ipython3",
   "version": "3.10.8"
  }
 },
 "nbformat": 4,
 "nbformat_minor": 5
}
