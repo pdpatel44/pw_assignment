{
 "cells": [
  {
   "cell_type": "markdown",
   "id": "59ae5173",
   "metadata": {},
   "source": [
    "#Answer 1\n",
    "\n",
    "Guido Van Rossum"
   ]
  },
  {
   "cell_type": "markdown",
   "id": "068b7191",
   "metadata": {},
   "source": [
    "#Answer 2\n",
    "\n",
    "Its a interactive, interpreted and OOPs based Programming language."
   ]
  },
  {
   "cell_type": "markdown",
   "id": "bbb824aa",
   "metadata": {},
   "source": [
    "#Answer 3\n",
    "\n",
    "yes Python is a case sensitive"
   ]
  },
  {
   "cell_type": "markdown",
   "id": "9e9140ff",
   "metadata": {},
   "source": [
    "#Answer 4\n",
    "\n",
    ".py"
   ]
  },
  {
   "cell_type": "markdown",
   "id": "6a04e851",
   "metadata": {},
   "source": [
    "#Answer 5\n",
    "\n",
    "Python is an interpreted code unlike c and c++."
   ]
  },
  {
   "cell_type": "markdown",
   "id": "e76a9e81",
   "metadata": {},
   "source": [
    "#Answer 6\n",
    "\n",
    "module, function body and class "
   ]
  },
  {
   "cell_type": "markdown",
   "id": "febdd0df",
   "metadata": {},
   "source": [
    "#Answer 7\n",
    "\n",
    "Character '#' is used for single line comment."
   ]
  },
  {
   "cell_type": "markdown",
   "id": "2c8e6efd",
   "metadata": {},
   "source": [
    "#Answer 8\n",
    "\n",
    "sys.version or python_version can be used to know python version. \n",
    "Or python -v command from windows command promt or linux terminal."
   ]
  },
  {
   "cell_type": "markdown",
   "id": "fb67257a",
   "metadata": {},
   "source": [
    "#Answer 9\n",
    "\n",
    "    lambda"
   ]
  },
  {
   "cell_type": "markdown",
   "id": "0adc2629",
   "metadata": {},
   "source": [
    "#Answer 10\n",
    "\n",
    "Preferred Install Promgram"
   ]
  },
  {
   "cell_type": "markdown",
   "id": "48cbc3c0",
   "metadata": {},
   "source": [
    "#Answer 11\n",
    "\n",
    "Built in functions: print(), sorted(), input() etc."
   ]
  },
  {
   "cell_type": "markdown",
   "id": "a5fcc06e",
   "metadata": {},
   "source": [
    "#Answer 12\n",
    "\n",
    "It can be of any lenght. "
   ]
  },
  {
   "cell_type": "markdown",
   "id": "cab65b41",
   "metadata": {},
   "source": [
    "#Answer 13\n",
    "\n",
    "Easy to understand, interpreted language, open source, huge library support, portable, etc."
   ]
  },
  {
   "cell_type": "markdown",
   "id": "802ec1d3",
   "metadata": {},
   "source": [
    "#Answer 14\n",
    "\n",
    "Private heap space. Python memory manger handles all memory operation. Out of reach for programmer"
   ]
  },
  {
   "cell_type": "markdown",
   "id": "89734706",
   "metadata": {},
   "source": [
    "#Answer 15\n",
    "\n",
    "Python packages are availble on its official site. Download appropiate package and follow regular installation process. "
   ]
  },
  {
   "cell_type": "markdown",
   "id": "43552bdf",
   "metadata": {},
   "source": [
    "#Answer 16\n",
    "\n",
    "To determine the scope indentation is required. "
   ]
  }
 ],
 "metadata": {
  "kernelspec": {
   "display_name": "Python 3 (ipykernel)",
   "language": "python",
   "name": "python3"
  },
  "language_info": {
   "codemirror_mode": {
    "name": "ipython",
    "version": 3
   },
   "file_extension": ".py",
   "mimetype": "text/x-python",
   "name": "python",
   "nbconvert_exporter": "python",
   "pygments_lexer": "ipython3",
   "version": "3.8.10"
  }
 },
 "nbformat": 4,
 "nbformat_minor": 5
}
