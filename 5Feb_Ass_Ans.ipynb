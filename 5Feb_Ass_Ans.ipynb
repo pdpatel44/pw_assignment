{
 "cells": [
  {
   "cell_type": "code",
   "execution_count": 4,
   "id": "15c6e789",
   "metadata": {},
   "outputs": [
    {
     "name": "stdout",
     "output_type": "stream",
     "text": [
      "My Car\n"
     ]
    }
   ],
   "source": [
    "# Answer 1\n",
    "\"\"\"\n",
    "Class in terms of OOPs is a blue print of the object. Its tells the properties of object. \n",
    "Object is a real time entity. It will be real presentation of class.\n",
    "\"\"\"\n",
    "class vehicle:\n",
    "    name = \"My Car\"\n",
    "    \n",
    "car = vehicle() # Here car is a object of class vehicle\n",
    "print(car.name)"
   ]
  },
  {
   "cell_type": "code",
   "execution_count": null,
   "id": "03d30f86",
   "metadata": {},
   "outputs": [],
   "source": [
    "# Answer 2\n",
    "\"\"\"\n",
    "Encapsulation, Abstraction, inheritance and polymorphism are pillars of OOPs.\n",
    "\"\"\""
   ]
  },
  {
   "cell_type": "code",
   "execution_count": 13,
   "id": "fc96a3d8",
   "metadata": {},
   "outputs": [
    {
     "name": "stdout",
     "output_type": "stream",
     "text": [
      "Vehicle is XUV with color Midnight Black.\n"
     ]
    }
   ],
   "source": [
    "# Answer 3\n",
    "\"\"\"\n",
    "__init__() is inbuilt function in python used to initialize the class objects. \n",
    "When an object is created by default __init__() get called.\n",
    "\n",
    "\"\"\"\n",
    "\n",
    "class vehicle:\n",
    "    name = \"Default\"\n",
    "    color = \"white\"\n",
    "\n",
    "    def __init__(self, n, c):\n",
    "        self.name = n\n",
    "        self.color = c\n",
    "\n",
    "car1 = vehicle(\"XUV\", \"Midnight Black\")\n",
    "print(f\"Vehicle is {car1.name} with color {car1.color}.\")\n",
    "    "
   ]
  },
  {
   "cell_type": "code",
   "execution_count": null,
   "id": "e3d38eae",
   "metadata": {},
   "outputs": [],
   "source": [
    "# Answer 4\n",
    "\"\"\"\n",
    "'self' keyword is used to tell instance of the class. Which can be used to access class variables. \n",
    "\"\"\""
   ]
  },
  {
   "cell_type": "code",
   "execution_count": null,
   "id": "64340113",
   "metadata": {},
   "outputs": [],
   "source": [
    "# Answer 5\n",
    "\"\"\"\n",
    "'Inheritance' is the concept of OOPs that represent to inherit the properties of already exiting class. \n",
    "A child will inherit the properties of perent class.\n",
    "\n",
    "Types of inheritance,\n",
    "1. Single Inheritance\n",
    "2. Multiple Inheritance\n",
    "3. Multi level Inheritance\n",
    "4. Hierarchical Inheritance\n",
    "5. Hybrid Inheritance\n",
    "\"\"\""
   ]
  }
 ],
 "metadata": {
  "kernelspec": {
   "display_name": "Python 3 (ipykernel)",
   "language": "python",
   "name": "python3"
  },
  "language_info": {
   "codemirror_mode": {
    "name": "ipython",
    "version": 3
   },
   "file_extension": ".py",
   "mimetype": "text/x-python",
   "name": "python",
   "nbconvert_exporter": "python",
   "pygments_lexer": "ipython3",
   "version": "3.8.10"
  }
 },
 "nbformat": 4,
 "nbformat_minor": 5
}
