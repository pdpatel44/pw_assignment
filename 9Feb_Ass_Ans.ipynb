{
 "cells": [
  {
   "cell_type": "markdown",
   "id": "1802d0d8",
   "metadata": {},
   "source": [
    "# Answer 1"
   ]
  },
  {
   "cell_type": "code",
   "execution_count": 3,
   "id": "0d307219",
   "metadata": {},
   "outputs": [
    {
     "name": "stdout",
     "output_type": "stream",
     "text": [
      "Vehicle Name = Harrier\n",
      "Max Speed = 220\n",
      "Average of Vehicle = 12\n"
     ]
    }
   ],
   "source": [
    "# Q1, Create a vehicle class with an init method having instance variables as name_of_vehicle, \n",
    "# max_speed and average_of_vehicle.\n",
    "\n",
    "class vehicle:\n",
    "    \n",
    "    def __init__(self, name, speed, avg):\n",
    "        self.name_of_vehicle = name\n",
    "        self.max_speed = speed\n",
    "        self.average_of_vehicle = avg\n",
    "    \n",
    "    def display(self):\n",
    "        print(\"Vehicle Name =\", self.name_of_vehicle)\n",
    "        print(\"Max Speed =\", self.max_speed)\n",
    "        print(\"Average of Vehicle =\", self.average_of_vehicle)\n",
    "\n",
    "obj = vehicle(\"Harrier\", 220, 12)\n",
    "obj.display()"
   ]
  },
  {
   "cell_type": "markdown",
   "id": "74d42f1d",
   "metadata": {},
   "source": [
    "# Answer 2"
   ]
  },
  {
   "cell_type": "code",
   "execution_count": 21,
   "id": "3330dede",
   "metadata": {},
   "outputs": [
    {
     "name": "stdout",
     "output_type": "stream",
     "text": [
      "Vehicle  XUV  and Capacity 7\n"
     ]
    }
   ],
   "source": [
    "# Create a child class car from the vehicle class created in Que 1, which will inherit the vehicle class.\n",
    "# Create a method named seating_capacity which takes capacity as an argument and returns the name of\n",
    "# the vehicle and its seating capacity.\n",
    "\n",
    "class car(vehicle):\n",
    "    def __init__(self, n, ms, avg, cap):\n",
    "        vehicle.__init__(self, n, ms, avg)\n",
    "        self.capacity = cap\n",
    "        \n",
    "    def seating_capacity(self, cap):\n",
    "        return self.name_of_vehicle, self.capacity\n",
    "\n",
    "cobj = car(\"XUV\", 250, 15, 7)\n",
    "#cobj.display()\n",
    "name, cc = cobj.seating_capacity(cobj)\n",
    "print(\"Vehicle \", name, \" and Capacity\", cc)"
   ]
  },
  {
   "cell_type": "markdown",
   "id": "d7aea2bf",
   "metadata": {},
   "source": [
    "# Answer 3"
   ]
  },
  {
   "cell_type": "code",
   "execution_count": 22,
   "id": "b6d7b705",
   "metadata": {},
   "outputs": [],
   "source": [
    "# What is multiple inheritance? Write a python code to demonstrate multiple inheritance."
   ]
  },
  {
   "cell_type": "code",
   "execution_count": 30,
   "id": "2abca25b",
   "metadata": {},
   "outputs": [
    {
     "name": "stdout",
     "output_type": "stream",
     "text": [
      "Base1= 2\n",
      "Base2= 3\n",
      "Derived= 4\n"
     ]
    }
   ],
   "source": [
    "# Multipe inheritance: Child class derived from two or more different parent classes.\n",
    "\n",
    "class Base1:\n",
    "    def __init__(self, a):\n",
    "        self.a = a\n",
    "\n",
    "    def display(self):\n",
    "        print(\"Base1=\", self.a)\n",
    "\n",
    "class Base2:\n",
    "    def __init__(self, b):\n",
    "        self.b = b\n",
    "\n",
    "    def display(self):\n",
    "        print(\"Base2=\", self.b)\n",
    "        \n",
    "class Derived(Base1, Base2):\n",
    "    def __init__(self, a, b,c):\n",
    "        Base1.__init__(self, a)\n",
    "        Base2.__init__(self, b)\n",
    "        self.c = c\n",
    "        \n",
    "    def display(self):\n",
    "        Base1.display(self)\n",
    "        Base2.display(self)\n",
    "        print(\"Derived=\", self.c)\n",
    "\n",
    "obj = Derived(2,3,4)\n",
    "obj.display()"
   ]
  },
  {
   "cell_type": "markdown",
   "id": "7c993465",
   "metadata": {},
   "source": [
    "# Answer 4"
   ]
  },
  {
   "cell_type": "code",
   "execution_count": null,
   "id": "31133e32",
   "metadata": {},
   "outputs": [],
   "source": [
    "# What are getter and setter in python? Create a class and create a getter and a setter method in this class."
   ]
  },
  {
   "cell_type": "code",
   "execution_count": 32,
   "id": "65b514bc",
   "metadata": {},
   "outputs": [
    {
     "name": "stdout",
     "output_type": "stream",
     "text": [
      "Person's age =  33\n"
     ]
    }
   ],
   "source": [
    "# Answer: In OOPs, setter and getter are used to set and get private member of class.\n",
    "\n",
    "class Person:\n",
    "    def __init__(self, age = 0):\n",
    "        self.__age = age\n",
    "        \n",
    "    def set_age(self, a):\n",
    "        self.__age = a\n",
    "    \n",
    "    def get_age(self):\n",
    "        return self.__age\n",
    "\n",
    "obj = Person()\n",
    "obj.set_age(33)\n",
    "\n",
    "print(\"Person's age = \", obj.get_age())"
   ]
  },
  {
   "cell_type": "markdown",
   "id": "023c3f57",
   "metadata": {},
   "source": [
    "# Answer 5"
   ]
  },
  {
   "cell_type": "code",
   "execution_count": 33,
   "id": "854437fb",
   "metadata": {},
   "outputs": [],
   "source": [
    "# What is method overriding in python? Write a python code to demonstrate method overriding."
   ]
  },
  {
   "cell_type": "code",
   "execution_count": 39,
   "id": "fc08614c",
   "metadata": {},
   "outputs": [
    {
     "name": "stdout",
     "output_type": "stream",
     "text": [
      "Person age 55\n",
      "Child 12\n"
     ]
    }
   ],
   "source": [
    "#Answer: In oops, difining same method as defined in  parent class is called as method overriding. \n",
    "# As both methods are same, invocation depends on class object it invoked with.\n",
    "\n",
    "class Person:\n",
    "    def __init__(self, age):\n",
    "        self.age = age\n",
    "        \n",
    "    def diplay(self):\n",
    "        print(\"Person age\", self.age)\n",
    "\n",
    "class child(Person):\n",
    "    def diplay(self):\n",
    "        print(\"Child\", self.age)\n",
    "        \n",
    "obj1 = Person(55)\n",
    "obj1.diplay()\n",
    "obj2 = child(12)\n",
    "obj2.diplay()"
   ]
  }
 ],
 "metadata": {
  "kernelspec": {
   "display_name": "Python 3 (ipykernel)",
   "language": "python",
   "name": "python3"
  },
  "language_info": {
   "codemirror_mode": {
    "name": "ipython",
    "version": 3
   },
   "file_extension": ".py",
   "mimetype": "text/x-python",
   "name": "python",
   "nbconvert_exporter": "python",
   "pygments_lexer": "ipython3",
   "version": "3.8.10"
  }
 },
 "nbformat": 4,
 "nbformat_minor": 5
}
