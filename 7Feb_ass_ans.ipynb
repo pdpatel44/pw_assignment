{
 "cells": [
  {
   "cell_type": "markdown",
   "id": "ee0f7095",
   "metadata": {},
   "source": [
    "# Answer 1"
   ]
  },
  {
   "cell_type": "code",
   "execution_count": 30,
   "id": "61164b99",
   "metadata": {},
   "outputs": [
    {
     "name": "stdout",
     "output_type": "stream",
     "text": [
      "Enter Strint:@ab34CD$,[\n"
     ]
    },
    {
     "data": {
      "text/plain": [
       "'Invalid Password'"
      ]
     },
     "execution_count": 30,
     "metadata": {},
     "output_type": "execute_result"
    }
   ],
   "source": [
    "def checkPassword(str):\n",
    "    if len(str) <= 10:\n",
    "        l=0\n",
    "        u=0\n",
    "        n=0\n",
    "        sc = 0\n",
    "        for i in range(0, len(str)):\n",
    "            if str[i].isalpha():\n",
    "                if str[i].islower():\n",
    "                    l += 1\n",
    "                elif str[i].isupper():\n",
    "                    u += 1\n",
    "                    \n",
    "            elif str[i].isnumeric():\n",
    "                n += 1\n",
    "            else :\n",
    "                sc += 1\n",
    "                \n",
    "        if l >= 2 and u >= 2 and n>=1 and sc ==3:\n",
    "            return \"Valid Password\"\n",
    "        else :\n",
    "            return \"Invalid Password\"\n",
    "                \n",
    "    else:\n",
    "        return \"Invalid Password\"\n",
    "\n",
    "password = str(input(\"Enter Strint:\"))\n",
    "checkPassword(password)"
   ]
  },
  {
   "cell_type": "markdown",
   "id": "9ccb9b4b",
   "metadata": {},
   "source": [
    "# Answer 2"
   ]
  },
  {
   "cell_type": "code",
   "execution_count": 12,
   "id": "43208c10",
   "metadata": {},
   "outputs": [
    {
     "name": "stdout",
     "output_type": "stream",
     "text": [
      "Enter String:Asdfsd\n",
      "func to check : A\n",
      "True\n"
     ]
    }
   ],
   "source": [
    "# Check if the string starts with a particular letter\n",
    "\n",
    "def func(letter):\n",
    "    print(\"func to check :\", letter)\n",
    "    return lambda s: True if (letter == s[0]) else False\n",
    "\n",
    "inStr = str(input(\"Enter String:\"))\n",
    "checkA = func(\"A\")\n",
    "print(checkA(inStr))"
   ]
  },
  {
   "cell_type": "code",
   "execution_count": 17,
   "id": "ea7f0145",
   "metadata": {},
   "outputs": [
    {
     "name": "stdout",
     "output_type": "stream",
     "text": [
      "Enter String:12354\n",
      "String '12354' is Numberic ? - True \n"
     ]
    }
   ],
   "source": [
    "# Check if the string is numeric\n",
    "inStr = str(input(\"Enter String:\"))\n",
    "print(f\"String '{inStr}' is Numberic ? - {inStr.isnumeric()} \")"
   ]
  },
  {
   "cell_type": "code",
   "execution_count": 1,
   "id": "0ab0dfec",
   "metadata": {},
   "outputs": [
    {
     "name": "stdout",
     "output_type": "stream",
     "text": [
      "[('orange', 80), ('mango', 99), ('grapes', 1000)]\n"
     ]
    }
   ],
   "source": [
    "#Sort a list of tuples having fruit names and their quantity\n",
    "inL = [(\"mango\",99),(\"orange\",80), (\"grapes\", 1000)]\n",
    "\n",
    "def sort_tuple(l):\n",
    "    \n",
    "    l.sort(key = lambda x : x[1] )\n",
    "    return l\n",
    "print(sort_tuple(inL))"
   ]
  },
  {
   "cell_type": "code",
   "execution_count": 6,
   "id": "7d91aef4",
   "metadata": {},
   "outputs": [
    {
     "name": "stdout",
     "output_type": "stream",
     "text": [
      "[1, 4, 9, 16, 25, 36, 49, 64, 81, 100]\n"
     ]
    }
   ],
   "source": [
    "# Find the squares of numbers from 1 to 10\n",
    "inl = [1,2,3,4,5,6,7,8,9,10]\n",
    "lst = list(map(lambda x:x**2, inl))\n",
    "print(lst)"
   ]
  },
  {
   "cell_type": "code",
   "execution_count": 7,
   "id": "b1a75886",
   "metadata": {},
   "outputs": [
    {
     "name": "stdout",
     "output_type": "stream",
     "text": [
      "[1.0, 1.2599210498948732, 1.4422495703074083, 1.5874010519681994, 1.7099759466766968, 1.8171205928321397, 1.912931182772389, 2.0, 2.080083823051904, 2.154434690031884]\n"
     ]
    }
   ],
   "source": [
    "# Find the cube root of numbers from 1 to 10\n",
    "inl = [1,2,3,4,5,6,7,8,9,10]\n",
    "lst = list(map(lambda x:x**(1/3), inl))\n",
    "print(lst)\n"
   ]
  },
  {
   "cell_type": "code",
   "execution_count": 10,
   "id": "38787675",
   "metadata": {},
   "outputs": [
    {
     "name": "stdout",
     "output_type": "stream",
     "text": [
      "Enter number:24\n",
      "Number is Even!\n"
     ]
    }
   ],
   "source": [
    "#Check if a given number is even\n",
    "\n",
    "def checkOdd(n):\n",
    "    if n%2 == 0:\n",
    "        print(\"Number is Even!\")\n",
    "    else:\n",
    "        print(\"Number is odd!\")\n",
    "\n",
    "inp = int(input(\"Enter number:\"))\n",
    "checkOdd(inp)"
   ]
  },
  {
   "cell_type": "code",
   "execution_count": 15,
   "id": "326b5950",
   "metadata": {},
   "outputs": [
    {
     "name": "stdout",
     "output_type": "stream",
     "text": [
      "[1, 3, 5, 7, 9]\n"
     ]
    }
   ],
   "source": [
    "#Filter odd numbers from the given list.\n",
    "lst = [1,2,3,4,5,6,7,8,9,10]\n",
    "\n",
    "olst = list(filter(lambda x: x%2 != 0, lst))\n",
    "print(olst)"
   ]
  },
  {
   "cell_type": "code",
   "execution_count": 17,
   "id": "ee2a3466",
   "metadata": {},
   "outputs": [
    {
     "name": "stdout",
     "output_type": "stream",
     "text": [
      "Positive list: [-5, -4, -3, -2, -1]\n",
      "Negative list: [0, 1, 2, 3, 4, 5, 6]\n"
     ]
    }
   ],
   "source": [
    "#Sort a list of integers into positive and negative integers lists.\n",
    "\n",
    "lst = [1,2,3,4,5,6,-1,-2,-3,-4,-5,0]\n",
    "psLst = sorted(list(filter(lambda x: x < 0, lst)))\n",
    "neLst =  sorted(list(filter(lambda x: x >= 0, lst)))\n",
    "\n",
    "print(\"Positive list:\", psLst)\n",
    "print(\"Negative list:\", neLst)"
   ]
  }
 ],
 "metadata": {
  "kernelspec": {
   "display_name": "Python 3 (ipykernel)",
   "language": "python",
   "name": "python3"
  },
  "language_info": {
   "codemirror_mode": {
    "name": "ipython",
    "version": 3
   },
   "file_extension": ".py",
   "mimetype": "text/x-python",
   "name": "python",
   "nbconvert_exporter": "python",
   "pygments_lexer": "ipython3",
   "version": "3.8.10"
  }
 },
 "nbformat": 4,
 "nbformat_minor": 5
}
