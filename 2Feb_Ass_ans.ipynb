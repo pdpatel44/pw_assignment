{
 "cells": [
  {
   "cell_type": "markdown",
   "id": "9fed859e",
   "metadata": {},
   "source": [
    " Q1. What are the characteristics of the tuples? Is tuple immutable?"
   ]
  },
  {
   "cell_type": "markdown",
   "id": "d49c35e2",
   "metadata": {},
   "source": [
    "Ans: Tuple is one of the built-in data type in Python. Its itmes are ordered, immutable. It also allows duplicated. Once defined its items cannot be changed but we cad add and remove items."
   ]
  },
  {
   "cell_type": "markdown",
   "id": "cad68008",
   "metadata": {},
   "source": [
    "Q2. What are the two tuple methods in python? Give an example of each method. Give a reason why\n",
    "tuples have only two in-built methods as compared to Lists."
   ]
  },
  {
   "cell_type": "markdown",
   "id": "62c607d0",
   "metadata": {},
   "source": [
    "1. count - returns number occurance of element\n",
    "2. index - returns the 1st occurance"
   ]
  },
  {
   "cell_type": "code",
   "execution_count": null,
   "id": "343ed8dd",
   "metadata": {},
   "outputs": [],
   "source": [
    "tp1 = (1,\"PW\", 3, 2,3,\"PW\", \"Data\")\n",
    "tp1.count(\"PW\") # returns 2\n",
    "tp1.count(\"Data\") # returns 1\n",
    "\n",
    "tp1.index(3) # returns 2"
   ]
  },
  {
   "cell_type": "raw",
   "id": "1ebf4758",
   "metadata": {},
   "source": [
    "Tuple is immutable so all list method which performs modifications on list cann't be used with tuple. "
   ]
  },
  {
   "cell_type": "markdown",
   "id": "17d351ca",
   "metadata": {},
   "source": [
    "Q3. Which collection datatypes in python do not allow duplicate items? Write a code using a set to remove\n",
    "duplicates from the given list.\n",
    "\n",
    "List = [1, 1, 1, 2, 1, 3, 1, 4, 2, 1, 2, 2, 2, 3, 2, 4, 3, 1, 3, 2, 3, 3, 3, 4, 4, 1, 4, 2, 4, 3, 4, 4]"
   ]
  },
  {
   "cell_type": "code",
   "execution_count": 22,
   "id": "9b78da2a",
   "metadata": {},
   "outputs": [
    {
     "data": {
      "text/plain": [
       "{1, 2, 3, 4}"
      ]
     },
     "execution_count": 22,
     "metadata": {},
     "output_type": "execute_result"
    }
   ],
   "source": [
    "#Ans: set and dictionary do not allow duplicates.\n",
    "List = [1, 1, 1, 2, 1, 3, 1, 4, 2, 1, 2, 2, 2, 3, 2, 4, 3, 1, 3, 2, 3, 3, 3, 4, 4, 1, 4, 2, 4, 3, 4, 4]\n",
    "s1 = set(List)\n",
    "s1"
   ]
  },
  {
   "cell_type": "markdown",
   "id": "1feb6959",
   "metadata": {},
   "source": [
    "Q4. Explain the difference between the union() and update() methods for a set. Give an example of\n",
    "each method."
   ]
  },
  {
   "cell_type": "markdown",
   "id": "4f28bfd7",
   "metadata": {},
   "source": [
    "1. union() : create new set from the union of two sets\n",
    "2. update() : It will update one set with other set"
   ]
  },
  {
   "cell_type": "code",
   "execution_count": 28,
   "id": "74005d0e",
   "metadata": {},
   "outputs": [
    {
     "name": "stdout",
     "output_type": "stream",
     "text": [
      "Union of sets {1, 2, 3, 4} and {'b', 'a'} is :{1, 2, 3, 4, 'b', 'a'}\n",
      "Updated: {1, 2, 3, 4, 'b', 'a'}\n"
     ]
    }
   ],
   "source": [
    "s2 = {1, 2, 3, 4}\n",
    "s3 = {'a', 'b'}\n",
    "s4 = s2.union(s3)\n",
    "print(f\"Union of sets {s2} and {s3} is :{s4}\")\n",
    "s2.update(s3)\n",
    "print(\"Updated:\",s2)"
   ]
  },
  {
   "cell_type": "markdown",
   "id": "1ff57926",
   "metadata": {},
   "source": [
    "Q5. What is a dictionary? Give an example. Also, state whether a dictionary is ordered or unordered."
   ]
  },
  {
   "cell_type": "raw",
   "id": "77c3b53d",
   "metadata": {},
   "source": [
    "Ans: Dictionary is the collection of unordered key:value pairs. Duplicates not allowed. We can change, add and remove dictionary. "
   ]
  },
  {
   "cell_type": "code",
   "execution_count": 33,
   "id": "34f610bd",
   "metadata": {},
   "outputs": [
    {
     "name": "stdout",
     "output_type": "stream",
     "text": [
      "{'name': 'Piyush', 'DOB': (10, 4, 1990), 'age': 33}\n",
      "Piyush\n"
     ]
    },
    {
     "data": {
      "text/plain": [
       "(10, 4, 1990)"
      ]
     },
     "execution_count": 33,
     "metadata": {},
     "output_type": "execute_result"
    }
   ],
   "source": [
    "d1 = {'name':'Piyush',\n",
    "     \"DOB\":(10,4,1990),\n",
    "     'age':33}\n",
    "print(d1)\n",
    "print(d1['name'])\n",
    "d1.get('DOB')"
   ]
  },
  {
   "cell_type": "markdown",
   "id": "ee713c0c",
   "metadata": {},
   "source": [
    "Q6. Can we create a nested dictionary? If so, please give an example by creating a simple one-level\n",
    "nested dictionary."
   ]
  },
  {
   "cell_type": "code",
   "execution_count": 38,
   "id": "876ed799",
   "metadata": {},
   "outputs": [
    {
     "name": "stdout",
     "output_type": "stream",
     "text": [
      "{'fname': 'Gupta', 'memeber': 4, 'father': {'name': 'F', 'age': 56}, 'son': {'name': 'S', 'age': 16}}\n",
      "father's dict: {'name': 'F', 'age': 56}\n",
      "son's age:16\n"
     ]
    }
   ],
   "source": [
    "fd = {'name':'F', 'age':56}\n",
    "sd = {'name':'S', 'age':16}\n",
    "family = {'fname':'Gupta', 'memeber':4, 'father':fd, 'son':sd}\n",
    "print(family)\n",
    "print(\"father's dict:\",family['father'])\n",
    "print(f\"son's age:{family['son']['age']}\")"
   ]
  },
  {
   "cell_type": "markdown",
   "id": "71dc40ca",
   "metadata": {},
   "source": [
    "Q7. Using setdefault() method, create key named topics in the given dictionary and also add the value of\n",
    "the key as this list ['Python', 'Machine Learning’, 'Deep Learning']\n",
    "\n",
    "\n",
    "dict1 = {'language' : 'Python', 'course': 'Data Science Masters'}"
   ]
  },
  {
   "cell_type": "code",
   "execution_count": 47,
   "id": "151248ee",
   "metadata": {},
   "outputs": [
    {
     "data": {
      "text/plain": [
       "{'language': 'Python',\n",
       " 'course': 'Data Science Masters',\n",
       " 'topics': ['Python', 'Machine Learning', 'Deep Learning']}"
      ]
     },
     "execution_count": 47,
     "metadata": {},
     "output_type": "execute_result"
    }
   ],
   "source": [
    "dict1 = {'language' : 'Python', 'course': 'Data Science Masters'}\n",
    "topics = ['Python', 'Machine Learning', 'Deep Learning']\n",
    "#dict1.setdefault('topics')\n",
    "dict1\n",
    "dict1.setdefault('topics',topics)\n",
    "dict1"
   ]
  },
  {
   "cell_type": "markdown",
   "id": "3d97dd13",
   "metadata": {},
   "source": [
    "Q 8 . What are the three view ob j ects in dictionaries? Use the three in-built methods in python to display\n",
    "these three view ob j ects for the given dictionary.\n",
    "\n",
    "\n",
    "dict1 = {'Sport': 'Cricket' , ' T eams': ['India', 'Australia', 'England', 'South Africa', 'Sri Lanka', ' N ew Z ealand']}"
   ]
  },
  {
   "cell_type": "raw",
   "id": "dc9fc3c3",
   "metadata": {},
   "source": [
    "Ans: There are few methods of dictionary  which returns view object. Like keys(), values() and items()."
   ]
  },
  {
   "cell_type": "code",
   "execution_count": 54,
   "id": "bff901f8",
   "metadata": {},
   "outputs": [
    {
     "name": "stdout",
     "output_type": "stream",
     "text": [
      "dict_keys(['Sport', ' Teams'])\n",
      "dict_values(['Cricket', ['India', 'Australia', 'England', 'South Africa', 'Sri Lanka', ' New Zealand']])\n",
      "dict_items([('Sport', 'Cricket'), (' Teams', ['India', 'Australia', 'England', 'South Africa', 'Sri Lanka', ' New Zealand'])])\n"
     ]
    }
   ],
   "source": [
    "dict1 = {'Sport': 'Cricket' , ' Teams': ['India', 'Australia', 'England', 'South Africa', 'Sri Lanka', ' New Zealand']}\n",
    "k1= dict1.keys()\n",
    "v1 = dict1.values()\n",
    "i1 = dict1.items()\n",
    "print(k1)\n",
    "print(v1)\n",
    "print(i1)"
   ]
  },
  {
   "cell_type": "code",
   "execution_count": null,
   "id": "0f3325e1",
   "metadata": {},
   "outputs": [],
   "source": []
  }
 ],
 "metadata": {
  "kernelspec": {
   "display_name": "Python 3 (ipykernel)",
   "language": "python",
   "name": "python3"
  },
  "language_info": {
   "codemirror_mode": {
    "name": "ipython",
    "version": 3
   },
   "file_extension": ".py",
   "mimetype": "text/x-python",
   "name": "python",
   "nbconvert_exporter": "python",
   "pygments_lexer": "ipython3",
   "version": "3.8.10"
  }
 },
 "nbformat": 4,
 "nbformat_minor": 5
}
