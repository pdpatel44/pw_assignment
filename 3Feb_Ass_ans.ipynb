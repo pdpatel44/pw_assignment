{
 "cells": [
  {
   "cell_type": "markdown",
   "id": "8628d1aa",
   "metadata": {},
   "source": [
    "# Answer 1:"
   ]
  },
  {
   "cell_type": "markdown",
   "id": "acb8700f",
   "metadata": {},
   "source": [
    "'def'keyword is used to create a function."
   ]
  },
  {
   "cell_type": "code",
   "execution_count": 2,
   "id": "7cc5fdd0",
   "metadata": {},
   "outputs": [
    {
     "data": {
      "text/plain": [
       "[1, 3, 5, 7, 9, 11, 13, 15, 17, 19, 21, 23, 25]"
      ]
     },
     "execution_count": 2,
     "metadata": {},
     "output_type": "execute_result"
    }
   ],
   "source": [
    "# func to return odd number in range 1 to 25\n",
    "\n",
    "def oddNumber():\n",
    "    l = []\n",
    "    for i in range(1, 26):\n",
    "        if i % 2 != 0:\n",
    "            l.append(i)\n",
    "    return l\n",
    "\n",
    "oddNumber()"
   ]
  },
  {
   "cell_type": "markdown",
   "id": "c67322e8",
   "metadata": {},
   "source": [
    "# Answer 2:"
   ]
  },
  {
   "cell_type": "markdown",
   "id": "4c618a61",
   "metadata": {},
   "source": [
    "'*args' and '**kwargs' are used with function when number of argument is unknow. \n",
    "By using'*args' we can pass arguments in the form of tuple.\n",
    "By using'**kwargs' we can pass arguments in the form of dictionary."
   ]
  },
  {
   "cell_type": "code",
   "execution_count": 4,
   "id": "f3f44a6b",
   "metadata": {},
   "outputs": [
    {
     "data": {
      "text/plain": [
       "[1, 2, 3]"
      ]
     },
     "execution_count": 4,
     "metadata": {},
     "output_type": "execute_result"
    }
   ],
   "source": [
    "# Function using *args\n",
    "\n",
    "def func1(*args):\n",
    "    l = []\n",
    "    for i in args:\n",
    "        if type(i) == int:\n",
    "            l.append(i)\n",
    "    return l\n",
    "\n",
    "func1(1,2,3,\"PW\", \"Data\")"
   ]
  },
  {
   "cell_type": "code",
   "execution_count": 9,
   "id": "00edffde",
   "metadata": {},
   "outputs": [
    {
     "name": "stdout",
     "output_type": "stream",
     "text": [
      "Input dictionary:  {'name': 'Pk', 'age': '33'}\n"
     ]
    },
    {
     "data": {
      "text/plain": [
       "(['name', 'age'], ['Pk', '33'])"
      ]
     },
     "execution_count": 9,
     "metadata": {},
     "output_type": "execute_result"
    }
   ],
   "source": [
    "# Function using **kwargs\n",
    "\n",
    "def func2(**kwargs):\n",
    "    k = []\n",
    "    v = []\n",
    "    print(\"Input dictionary: \", kwargs)\n",
    "    for i in kwargs.keys():\n",
    "        k.append(i)\n",
    "        v.append(kwargs[i])\n",
    "    return k, v\n",
    "\n",
    "func2(name='Pk', age='33')"
   ]
  },
  {
   "cell_type": "markdown",
   "id": "969766c3",
   "metadata": {},
   "source": [
    "#  Answer 3:"
   ]
  },
  {
   "cell_type": "markdown",
   "id": "7f28061b",
   "metadata": {},
   "source": [
    "Iterator is an object that used to iterate or move through the elemnets of data structures containers.\n",
    "\n",
    "\"iter()\" is used to intialize the iterator. \n",
    "\n",
    "\"next()\" method is used for iteration. "
   ]
  },
  {
   "cell_type": "code",
   "execution_count": 10,
   "id": "77542a84",
   "metadata": {},
   "outputs": [
    {
     "name": "stdout",
     "output_type": "stream",
     "text": [
      "2\n",
      "4\n",
      "6\n",
      "8\n",
      "10\n"
     ]
    }
   ],
   "source": [
    "l = [2, 4, 6, 8, 10, 12, 14, 16, 18, 20]\n",
    "it = iter(l)\n",
    "\n",
    "for i in range(1, 6):\n",
    "    print(next(it))"
   ]
  },
  {
   "cell_type": "markdown",
   "id": "8b7bf85b",
   "metadata": {},
   "source": [
    "#  Answer 4:"
   ]
  },
  {
   "cell_type": "markdown",
   "id": "50263f67",
   "metadata": {},
   "source": [
    "Generator function are used to create perticular sequence whithout stroing it. \n",
    "\n",
    "Generator function used special keyword 'yeild' to return the sequence elements.\n",
    "\n"
   ]
  },
  {
   "cell_type": "code",
   "execution_count": 19,
   "id": "6e33d155",
   "metadata": {},
   "outputs": [
    {
     "name": "stdout",
     "output_type": "stream",
     "text": [
      "0\n",
      "2\n",
      "4\n",
      "6\n",
      "8\n"
     ]
    }
   ],
   "source": [
    "# Even number sequence using generator function\n",
    "\n",
    "def evenSeq(n):\n",
    "    v = 0\n",
    "    for i in range(n):\n",
    "        yield v\n",
    "        v = v + 2\n",
    "\n",
    "for j in evenSeq(5):\n",
    "    print(j)\n",
    "            "
   ]
  },
  {
   "cell_type": "markdown",
   "id": "03bff05c",
   "metadata": {},
   "source": [
    " #  Answer 5:"
   ]
  },
  {
   "cell_type": "code",
   "execution_count": 49,
   "id": "90a57a1e",
   "metadata": {},
   "outputs": [
    {
     "name": "stdout",
     "output_type": "stream",
     "text": [
      "2\n",
      "3\n",
      "5\n",
      "7\n",
      "11\n"
     ]
    }
   ],
   "source": [
    "# Prime member for less than 1000\n",
    "\n",
    "def primeSeq(n):\n",
    "    \n",
    "    for i in range(2, n+1):\n",
    "        for j in range(2, i+1):\n",
    "            if i == 2:\n",
    "                break\n",
    "            if i % j == 0:\n",
    "                break\n",
    "            tm = j\n",
    "        if i == j or i == 2 :\n",
    "            yield i\n",
    "\n",
    "#for i in primeSeq(1000):\n",
    "#    print(i)\n",
    "it = iter(primeSeq(1000))\n",
    "\n",
    "print(next(it))\n",
    "print(next(it))\n",
    "print(next(it))\n",
    "print(next(it))\n",
    "print(next(it))"
   ]
  },
  {
   "cell_type": "code",
   "execution_count": null,
   "id": "6456e10c",
   "metadata": {},
   "outputs": [],
   "source": []
  }
 ],
 "metadata": {
  "kernelspec": {
   "display_name": "Python 3 (ipykernel)",
   "language": "python",
   "name": "python3"
  },
  "language_info": {
   "codemirror_mode": {
    "name": "ipython",
    "version": 3
   },
   "file_extension": ".py",
   "mimetype": "text/x-python",
   "name": "python",
   "nbconvert_exporter": "python",
   "pygments_lexer": "ipython3",
   "version": "3.8.10"
  }
 },
 "nbformat": 4,
 "nbformat_minor": 5
}
